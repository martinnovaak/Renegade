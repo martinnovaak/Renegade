{
 "cells": [
  {
   "cell_type": "markdown",
   "id": "e4e74414",
   "metadata": {},
   "source": [
    "### Generating position strings from pgn\n",
    "This script generates `position startpos moves ...` strings, along with FENs.  \n",
    "It is mostly used for debugging purposes and requires the `python-chess` library."
   ]
  },
  {
   "cell_type": "code",
   "execution_count": null,
   "id": "e9477b56",
   "metadata": {},
   "outputs": [],
   "source": [
    "import chess\n",
    "\n",
    "# Set this to the desired file\n",
    "filename = \"C:/....\"\n",
    "\n",
    "with open(filename) as pgn:\n",
    "    game = chess.pgn.read_game(pgn)\n",
    "\n",
    "board = game.board()\n",
    "string = \"position startpos moves \"\n",
    "for move in game.mainline_moves():\n",
    "    string += move.uci() + \" \"\n",
    "    board.push(move)\n",
    "    print(\"Move %d\" % board.fullmove_number)\n",
    "    print(string)\n",
    "    print(board.fen() + \"\\n\")"
   ]
  },
  {
   "cell_type": "code",
   "execution_count": null,
   "id": "0be88f4f",
   "metadata": {},
   "outputs": [],
   "source": []
  }
 ],
 "metadata": {
  "kernelspec": {
   "display_name": "Python 3 (ipykernel)",
   "language": "python",
   "name": "python3"
  },
  "language_info": {
   "codemirror_mode": {
    "name": "ipython",
    "version": 3
   },
   "file_extension": ".py",
   "mimetype": "text/x-python",
   "name": "python",
   "nbconvert_exporter": "python",
   "pygments_lexer": "ipython3",
   "version": "3.9.7"
  }
 },
 "nbformat": 4,
 "nbformat_minor": 5
}
